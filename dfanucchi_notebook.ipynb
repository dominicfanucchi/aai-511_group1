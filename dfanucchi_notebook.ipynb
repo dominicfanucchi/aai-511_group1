{
 "cells": [
  {
   "cell_type": "markdown",
   "metadata": {},
   "source": [
    "## Imports and File Reads"
   ]
  },
  {
   "cell_type": "code",
   "execution_count": 37,
   "metadata": {},
   "outputs": [],
   "source": [
    "import pandas as pd\n",
    "import numpy as np\n",
    "import seaborn as sns\n",
    "import matplotlib.pyplot as plt\n",
    "%matplotlib inline\n",
    "plt.style.use('fivethirtyeight')\n",
    "sns.set_theme(style='whitegrid', palette='deep')\n",
    "\n",
    "import pretty_midi as pm\n",
    "\n",
    "import tensorflow as tf\n",
    "import torch as pt\n",
    "\n",
    "import warnings\n",
    "warnings.filterwarnings('ignore', category=FutureWarning)\n",
    "warnings.filterwarnings('ignore', category=RuntimeWarning)"
   ]
  },
  {
   "cell_type": "code",
   "execution_count": 38,
   "metadata": {},
   "outputs": [
    {
     "name": "stdout",
     "output_type": "stream",
     "text": [
      "Total number of MIDI files: 1530\n",
      "Total size of MIDI files: 38.56 MB\n",
      "\n",
      "Breakdown by composer:\n",
      "  Mozart: 10.58 MB (257 files)\n",
      "  Chopin: 2.83 MB (136 files)\n",
      "  Beethoven: 13.25 MB (212 files)\n",
      "  Bach: 11.89 MB (925 files)\n"
     ]
    }
   ],
   "source": [
    "import os\n",
    "\n",
    "def get_size(start_path):\n",
    "    total_size = 0\n",
    "    file_count = 0\n",
    "    for dirpath, dirnames, filenames in os.walk(start_path):\n",
    "        for f in filenames:\n",
    "            if f.endswith('.mid'):\n",
    "                fp = os.path.join(dirpath, f)\n",
    "                total_size += os.path.getsize(fp)\n",
    "                file_count += 1\n",
    "    return total_size, file_count\n",
    "\n",
    "def human_readable_size(size, decimal_places=2):\n",
    "    for unit in ['B', 'KB', 'MB', 'GB', 'TB']:\n",
    "        if size < 1024.0:\n",
    "            break\n",
    "        size /= 1024.0\n",
    "    return f\"{size:.{decimal_places}f} {unit}\"\n",
    "\n",
    "root_dir = '../aai-511_group1/midiclassics'\n",
    "\n",
    "total_size, file_count = get_size(root_dir)\n",
    "\n",
    "print(f\"Total number of MIDI files: {file_count}\")\n",
    "print(f\"Total size of MIDI files: {human_readable_size(total_size)}\")\n",
    "\n",
    "# Print breakdown by composer\n",
    "print(\"\\nBreakdown by composer:\")\n",
    "for composer in os.listdir(root_dir):\n",
    "    composer_dir = os.path.join(root_dir, composer)\n",
    "    if os.path.isdir(composer_dir):\n",
    "        composer_size, composer_file_count = get_size(composer_dir)\n",
    "        print(f\"  {composer}: {human_readable_size(composer_size)} ({composer_file_count} files)\")"
   ]
  },
  {
   "cell_type": "code",
   "execution_count": 39,
   "metadata": {},
   "outputs": [
    {
     "name": "stdout",
     "output_type": "stream",
     "text": [
      "Error processing ../aai-511_group1/midiclassics/beethoven/Sonatina op33 4mov.mid: index 1 is out of bounds for axis 0 with size 1\n",
      "Error processing ../aai-511_group1/midiclassics/beethoven/Sonata Presto.mid: index 1 is out of bounds for axis 0 with size 1\n",
      "Error processing ../aai-511_group1/midiclassics/beethoven/Piano Sonatina No.2 Op 49.mid: index 1 is out of bounds for axis 0 with size 1\n",
      "Error processing ../aai-511_group1/midiclassics/beethoven/Op33 No.4.mid: index 1 is out of bounds for axis 0 with size 1\n",
      "Error processing ../aai-511_group1/midiclassics/beethoven/Piano Sonata No.27.mid: index 1 is out of bounds for axis 0 with size 1\n",
      "Error processing ../aai-511_group1/midiclassics/beethoven/Op.51.mid: index 1 is out of bounds for axis 0 with size 1\n",
      "Error processing ../aai-511_group1/midiclassics/beethoven/Rage over a lost pennny.mid: index 1 is out of bounds for axis 0 with size 1\n",
      "Error processing ../aai-511_group1/midiclassics/beethoven/Sonatina In C.mid: index 1 is out of bounds for axis 0 with size 1\n",
      "Error processing ../aai-511_group1/midiclassics/beethoven/Anhang 14-3.mid: Could not decode key with 3 flats and mode 255\n",
      "Error processing ../aai-511_group1/midiclassics/chopin/Finale to B Minor Paino Sonata.mid: index 1 is out of bounds for axis 0 with size 1\n",
      "Error processing ../aai-511_group1/midiclassics/chopin/Ecossaise No.2 in G.mid: index 1 is out of bounds for axis 0 with size 1\n",
      "Error processing ../aai-511_group1/midiclassics/chopin/Etude No.1.mid: index 1 is out of bounds for axis 0 with size 1\n",
      "Error processing ../aai-511_group1/midiclassics/chopin/Imprompt Fantastique.mid: index 1 is out of bounds for axis 0 with size 1\n",
      "Error processing ../aai-511_group1/midiclassics/chopin/(2542)Prelude opus.28, No.16 in B flat minor.mid: index 1 is out of bounds for axis 0 with size 1\n",
      "Error processing ../aai-511_group1/midiclassics/chopin/Etude Op.10 No.11.mid: index 1 is out of bounds for axis 0 with size 1\n",
      "Error processing ../aai-511_group1/midiclassics/chopin/Etude op10 n03.mid: index 1 is out of bounds for axis 0 with size 1\n",
      "Error processing ../aai-511_group1/midiclassics/chopin/Barcarolle in F sharp Major.mid: index 1 is out of bounds for axis 0 with size 1\n",
      "Error processing ../aai-511_group1/midiclassics/mozart/Fantasia in D, K397.mid: index 1 is out of bounds for axis 0 with size 1\n",
      "Error processing ../aai-511_group1/midiclassics/mozart/K393 Solfeggi n4.mid: index 1 is out of bounds for axis 0 with size 1\n",
      "Error processing ../aai-511_group1/midiclassics/mozart/Fantasia in C K.475.mid: index 1 is out of bounds for axis 0 with size 1\n"
     ]
    }
   ],
   "source": [
    "composers = ['bach', 'beethoven', 'chopin', 'mozart']\n",
    "\n",
    "def midi_to_dataframe(midi_path):\n",
    "    try:\n",
    "        # Read the MIDI file\n",
    "        midi = pm.PrettyMIDI(midi_path)\n",
    "        data = []\n",
    "        \n",
    "        # Collect notes, control changes, and pitch bends\n",
    "        for i, instrument in enumerate(midi.instruments):\n",
    "            for note in instrument.notes:\n",
    "                data.append([i, 'note', note.start, note.end, note.pitch, note.velocity])\n",
    "            for control_change in instrument.control_changes:\n",
    "                data.append([i, 'control_change', control_change.time, control_change.number, control_change.value])\n",
    "            for pitch_bend in instrument.pitch_bends:\n",
    "                data.append([i, 'pitch_bend', pitch_bend.time, pitch_bend.pitch])\n",
    "        \n",
    "        # Collect tempo changes from the first track only\n",
    "        if i == 0:\n",
    "            for tempo_change in midi.get_tempo_changes():\n",
    "                data.append([0, 'tempo_change', tempo_change[0], tempo_change[1]])\n",
    "        \n",
    "        # Create a dataframe from the data\n",
    "        df = pd.DataFrame(data, columns=['track', 'type', 'start', 'end', 'pitch_or_number', 'velocity_or_value'])\n",
    "        return df\n",
    "    except Exception as e:\n",
    "        print(f\"Error processing {midi_path}: {e}\")\n",
    "        return pd.DataFrame()\n",
    "\n",
    "composer_dataframes = {}\n",
    "\n",
    "for composer in composers:\n",
    "    folder_path = os.path.join(root_dir, composer)\n",
    "    if os.path.exists(folder_path):\n",
    "        all_midi_files = [os.path.join(folder_path, f) for f in os.listdir(folder_path) if f.endswith('.mid')]\n",
    "        composer_dfs = [midi_to_dataframe(midi_file) for midi_file in all_midi_files]\n",
    "        # Filter out empty dataframes resulting from errors\n",
    "        composer_dfs = [df for df in composer_dfs if not df.empty]\n",
    "        if composer_dfs:\n",
    "            composer_dataframes[composer] = pd.concat(composer_dfs, ignore_index=True)\n",
    "\n",
    "# getting each composer's dataframe\n",
    "bach_df = composer_dataframes.get('bach', pd.DataFrame())\n",
    "beethoven_df = composer_dataframes.get('beethoven', pd.DataFrame())\n",
    "chopin_df = composer_dataframes.get('chopin', pd.DataFrame())\n",
    "mozart_df = composer_dataframes.get('mozart', pd.DataFrame())\n"
   ]
  },
  {
   "cell_type": "code",
   "execution_count": 40,
   "metadata": {},
   "outputs": [
    {
     "name": "stdout",
     "output_type": "stream",
     "text": [
      "<class 'pandas.core.frame.DataFrame'>\n",
      "RangeIndex: 350047 entries, 0 to 350046\n",
      "Data columns (total 6 columns):\n",
      " #   Column             Non-Null Count   Dtype  \n",
      "---  ------             --------------   -----  \n",
      " 0   track              350047 non-null  int64  \n",
      " 1   type               350047 non-null  object \n",
      " 2   start              350047 non-null  float64\n",
      " 3   end                350047 non-null  float64\n",
      " 4   pitch_or_number    349905 non-null  float64\n",
      " 5   velocity_or_value  339640 non-null  float64\n",
      "dtypes: float64(4), int64(1), object(1)\n",
      "memory usage: 16.0+ MB\n"
     ]
    }
   ],
   "source": [
    "bach_df.info()"
   ]
  },
  {
   "cell_type": "code",
   "execution_count": 41,
   "metadata": {},
   "outputs": [
    {
     "name": "stdout",
     "output_type": "stream",
     "text": [
      "<class 'pandas.core.frame.DataFrame'>\n",
      "RangeIndex: 939153 entries, 0 to 939152\n",
      "Data columns (total 6 columns):\n",
      " #   Column             Non-Null Count   Dtype  \n",
      "---  ------             --------------   -----  \n",
      " 0   track              939153 non-null  int64  \n",
      " 1   type               939153 non-null  object \n",
      " 2   start              939153 non-null  float64\n",
      " 3   end                939153 non-null  float64\n",
      " 4   pitch_or_number    938908 non-null  float64\n",
      " 5   velocity_or_value  653575 non-null  float64\n",
      "dtypes: float64(4), int64(1), object(1)\n",
      "memory usage: 43.0+ MB\n"
     ]
    }
   ],
   "source": [
    "beethoven_df.info()"
   ]
  },
  {
   "cell_type": "code",
   "execution_count": 42,
   "metadata": {},
   "outputs": [
    {
     "name": "stdout",
     "output_type": "stream",
     "text": [
      "<class 'pandas.core.frame.DataFrame'>\n",
      "RangeIndex: 384568 entries, 0 to 384567\n",
      "Data columns (total 6 columns):\n",
      " #   Column             Non-Null Count   Dtype  \n",
      "---  ------             --------------   -----  \n",
      " 0   track              384568 non-null  int64  \n",
      " 1   type               384568 non-null  object \n",
      " 2   start              384568 non-null  float64\n",
      " 3   end                384568 non-null  float64\n",
      " 4   pitch_or_number    384455 non-null  float64\n",
      " 5   velocity_or_value  300162 non-null  float64\n",
      "dtypes: float64(4), int64(1), object(1)\n",
      "memory usage: 17.6+ MB\n"
     ]
    }
   ],
   "source": [
    "chopin_df.info()"
   ]
  },
  {
   "cell_type": "code",
   "execution_count": 43,
   "metadata": {},
   "outputs": [
    {
     "name": "stdout",
     "output_type": "stream",
     "text": [
      "<class 'pandas.core.frame.DataFrame'>\n",
      "RangeIndex: 386935 entries, 0 to 386934\n",
      "Data columns (total 6 columns):\n",
      " #   Column             Non-Null Count   Dtype  \n",
      "---  ------             --------------   -----  \n",
      " 0   track              386935 non-null  int64  \n",
      " 1   type               386935 non-null  object \n",
      " 2   start              386935 non-null  float64\n",
      " 3   end                386935 non-null  float64\n",
      " 4   pitch_or_number    386885 non-null  float64\n",
      " 5   velocity_or_value  343864 non-null  float64\n",
      "dtypes: float64(4), int64(1), object(1)\n",
      "memory usage: 17.7+ MB\n"
     ]
    }
   ],
   "source": [
    "mozart_df.info()"
   ]
  },
  {
   "cell_type": "code",
   "execution_count": null,
   "metadata": {},
   "outputs": [],
   "source": []
  },
  {
   "cell_type": "markdown",
   "metadata": {},
   "source": [
    "#### References\n",
    "1. https://machinelearningmastery.com/cnn-long-short-term-memory-networks/\n",
    "2. https://colinraffel.com/publications/ismir2014intuitive.pdf\n",
    "3. \n",
    "4. \n",
    "5. \n",
    "6. \n",
    "7. https://mido.readthedocs.io/en/latest/resources.html\n",
    "8. https://www.youtube.com/playlist?list=PLTb0GHZilEMirahR6_o7ZWzO27NclwMqK"
   ]
  }
 ],
 "metadata": {
  "kernelspec": {
   "display_name": "Python 3",
   "language": "python",
   "name": "python3"
  },
  "language_info": {
   "codemirror_mode": {
    "name": "ipython",
    "version": 3
   },
   "file_extension": ".py",
   "mimetype": "text/x-python",
   "name": "python",
   "nbconvert_exporter": "python",
   "pygments_lexer": "ipython3",
   "version": "3.11.6"
  }
 },
 "nbformat": 4,
 "nbformat_minor": 2
}
