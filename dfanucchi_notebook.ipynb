{
 "cells": [
  {
   "cell_type": "markdown",
   "metadata": {},
   "source": [
    "## Imports and File Reads"
   ]
  },
  {
   "cell_type": "code",
   "execution_count": 2,
   "metadata": {},
   "outputs": [],
   "source": [
    "import pandas as pd\n",
    "import numpy as np\n",
    "import seaborn as sns\n",
    "import matplotlib.pyplot as plt\n",
    "%matplotlib inline\n",
    "plt.style.use('fivethirtyeight')\n",
    "sns.set_theme(style='whitegrid', palette='deep')\n",
    "\n",
    "import pretty_midi as pm\n",
    "\n",
    "import tensorflow as tf\n",
    "import torch as pt\n",
    "\n",
    "import warnings\n",
    "warnings.filterwarnings('ignore', category=FutureWarning)"
   ]
  },
  {
   "cell_type": "code",
   "execution_count": 13,
   "metadata": {},
   "outputs": [
    {
     "name": "stdout",
     "output_type": "stream",
     "text": [
      "Total number of MIDI files: 1530\n",
      "Total size of MIDI files: 38.56 MB\n",
      "\n",
      "Breakdown by composer:\n",
      "  Mozart: 10.58 MB (257 files)\n",
      "  Chopin: 2.83 MB (136 files)\n",
      "  Beethoven: 13.25 MB (212 files)\n",
      "  Bach: 11.89 MB (925 files)\n"
     ]
    }
   ],
   "source": [
    "import os\n",
    "\n",
    "def get_size(start_path):\n",
    "    total_size = 0\n",
    "    file_count = 0\n",
    "    for dirpath, dirnames, filenames in os.walk(start_path):\n",
    "        for f in filenames:\n",
    "            if f.endswith('.mid'):\n",
    "                fp = os.path.join(dirpath, f)\n",
    "                total_size += os.path.getsize(fp)\n",
    "                file_count += 1\n",
    "    return total_size, file_count\n",
    "\n",
    "def human_readable_size(size, decimal_places=2):\n",
    "    for unit in ['B', 'KB', 'MB', 'GB', 'TB']:\n",
    "        if size < 1024.0:\n",
    "            break\n",
    "        size /= 1024.0\n",
    "    return f\"{size:.{decimal_places}f} {unit}\"\n",
    "\n",
    "root_dir = '../aai-511_group1/midiclassics'\n",
    "\n",
    "total_size, file_count = get_size(root_dir)\n",
    "\n",
    "print(f\"Total number of MIDI files: {file_count}\")\n",
    "print(f\"Total size of MIDI files: {human_readable_size(total_size)}\")\n",
    "\n",
    "# Print breakdown by composer\n",
    "print(\"\\nBreakdown by composer:\")\n",
    "for composer in os.listdir(root_dir):\n",
    "    composer_dir = os.path.join(root_dir, composer)\n",
    "    if os.path.isdir(composer_dir):\n",
    "        composer_size, composer_file_count = get_size(composer_dir)\n",
    "        print(f\"  {composer}: {human_readable_size(composer_size)} ({composer_file_count} files)\")"
   ]
  },
  {
   "cell_type": "markdown",
   "metadata": {},
   "source": [
    "#### References\n",
    "1. https://machinelearningmastery.com/cnn-long-short-term-memory-networks/"
   ]
  }
 ],
 "metadata": {
  "kernelspec": {
   "display_name": "Python 3",
   "language": "python",
   "name": "python3"
  },
  "language_info": {
   "codemirror_mode": {
    "name": "ipython",
    "version": 3
   },
   "file_extension": ".py",
   "mimetype": "text/x-python",
   "name": "python",
   "nbconvert_exporter": "python",
   "pygments_lexer": "ipython3",
   "version": "3.11.6"
  }
 },
 "nbformat": 4,
 "nbformat_minor": 2
}
