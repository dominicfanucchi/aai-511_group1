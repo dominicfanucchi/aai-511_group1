{
 "cells": [
  {
   "cell_type": "code",
   "execution_count": 139,
   "metadata": {},
   "outputs": [],
   "source": [
    "import pandas as pd\n",
    "import numpy as np\n",
    "import seaborn as sns\n",
    "import matplotlib.pyplot as plt\n",
    "%matplotlib inline\n",
    "plt.style.use('fivethirtyeight')\n",
    "sns.set_theme(style='whitegrid', palette='deep')\n",
    "\n",
    "import os\n",
    "import mido\n",
    "import pretty_midi as pm\n",
    "\n",
    "from sklearn.model_selection import train_test_split\n",
    "from sklearn.preprocessing import LabelEncoder, StandardScaler, OneHotEncoder\n",
    "from sklearn.compose import ColumnTransformer\n",
    "from sklearn.pipeline import Pipeline\n",
    "from tensorflow.keras.models import Sequential, load_model\n",
    "from tensorflow.keras.layers import LSTM, Dense, Dropout\n",
    "\n",
    "import tensorflow as tf\n",
    "# import torch as pt\n",
    "import joblib\n",
    "import streamlit as st\n",
    "\n",
    "import warnings\n",
    "warnings.filterwarnings('ignore', category=FutureWarning)"
   ]
  },
  {
   "cell_type": "code",
   "execution_count": 22,
   "metadata": {},
   "outputs": [
    {
     "name": "stderr",
     "output_type": "stream",
     "text": [
      "c:\\Users\\gabri\\anaconda3\\envs\\tf\\lib\\site-packages\\pretty_midi\\pretty_midi.py:100: RuntimeWarning: Tempo, Key or Time signature change events found on non-zero tracks.  This is not a valid type 0 or type 1 MIDI file.  Tempo, Key or Time Signature may be wrong.\n",
      "  warnings.warn(\n"
     ]
    },
    {
     "name": "stdout",
     "output_type": "stream",
     "text": [
      "Bach DataFrame:\n",
      "                       file_name  num_tracks  ticks_per_beat      length  \\\n",
      "0                   AveMaria.mid           4             192  682.664062   \n",
      "1  Bwv0525 Sonate en trio n1.mid           4             480  852.282011   \n",
      "2  Bwv0526 Sonate en trio n2.mid           4             384  760.609070   \n",
      "3  Bwv0527 Sonate en trio n3.mid           4             480  921.410553   \n",
      "4  Bwv0528 Sonate en trio n4.mid           4             768  628.592614   \n",
      "\n",
      "   num_notes  note_density  avg_velocity  key_signature       time_signature  \\\n",
      "0        793      9.670732     33.857503            NaN  4/4 at 0.00 seconds   \n",
      "1       6077      7.132842     96.069442            NaN  4/4 at 0.00 seconds   \n",
      "2       5379      7.074737     94.044990            NaN  4/4 at 0.00 seconds   \n",
      "3       6056      6.579524     96.139696            NaN  2/4 at 0.00 seconds   \n",
      "4       4221      6.718341     96.103293            NaN  4/4 at 0.00 seconds   \n",
      "\n",
      "   tempo composer  \n",
      "0  120.0     Bach  \n",
      "1   75.0     Bach  \n",
      "2   80.0     Bach  \n",
      "3   60.0     Bach  \n",
      "4   40.0     Bach  \n",
      "Error processing file C:\\Users\\gabri\\OneDrive\\Desktop\\MSAAI\\AAI-511\\aai-511_group1\\midiclassics\\Beethoven\\Anhang 14-3.mid: Could not decode key with 3 flats and mode 255\n"
     ]
    },
    {
     "name": "stderr",
     "output_type": "stream",
     "text": [
      "c:\\Users\\gabri\\anaconda3\\envs\\tf\\lib\\site-packages\\pretty_midi\\pretty_midi.py:100: RuntimeWarning: Tempo, Key or Time signature change events found on non-zero tracks.  This is not a valid type 0 or type 1 MIDI file.  Tempo, Key or Time Signature may be wrong.\n",
      "  warnings.warn(\n"
     ]
    },
    {
     "name": "stdout",
     "output_type": "stream",
     "text": [
      "Beethoven DataFrame:\n",
      "                      file_name  num_tracks  ticks_per_beat      length  \\\n",
      "0  32 Variations on a theme.mid           4             480  618.942806   \n",
      "1        Andante in F Major.mid           3             192  250.500000   \n",
      "2               Anh06 Rondo.mid           4             120  336.875269   \n",
      "3  Anh08Nb1 Gavotte 4 hands.mid           6             120  167.176113   \n",
      "4       Bagatella Fur Elise.mid           7             120  131.096678   \n",
      "\n",
      "   num_notes  note_density  avg_velocity  key_signature       time_signature  \\\n",
      "0       7318     11.823386     69.349412            0.0  3/4 at 0.00 seconds   \n",
      "1       4323     17.257485     52.873236            5.0  3/8 at 0.00 seconds   \n",
      "2       4438     13.174015     77.954484           10.0  6/8 at 0.00 seconds   \n",
      "3       1571      9.397276     63.513686            5.0  4/4 at 0.00 seconds   \n",
      "4        950      7.246560     81.637895            0.0  3/4 at 0.00 seconds   \n",
      "\n",
      "        tempo   composer  \n",
      "0  120.000000  Beethoven  \n",
      "1   80.000000  Beethoven  \n",
      "2  143.999885  Beethoven  \n",
      "3  100.000000  Beethoven  \n",
      "4  159.000207  Beethoven  \n"
     ]
    },
    {
     "name": "stderr",
     "output_type": "stream",
     "text": [
      "c:\\Users\\gabri\\anaconda3\\envs\\tf\\lib\\site-packages\\pretty_midi\\pretty_midi.py:100: RuntimeWarning: Tempo, Key or Time signature change events found on non-zero tracks.  This is not a valid type 0 or type 1 MIDI file.  Tempo, Key or Time Signature may be wrong.\n",
      "  warnings.warn(\n"
     ]
    },
    {
     "name": "stdout",
     "output_type": "stream",
     "text": [
      "Chopin DataFrame:\n",
      "                                           file_name  num_tracks  \\\n",
      "0   (2542)Prelude opus.28, No.16 in B flat minor.mid           2   \n",
      "1  19 Polish Songs, for Solo Voice and Piano acco...           3   \n",
      "2  19 Polish Songs, for Solo Voice and Piano acco...           3   \n",
      "3  19 Polish Songs, for Solo Voice and Piano acco...           3   \n",
      "4  19 Polish Songs, for Solo Voice and Piano acco...           3   \n",
      "\n",
      "   ticks_per_beat      length  num_notes  note_density  avg_velocity  \\\n",
      "0            1024   64.000262       1199     18.734394     63.552961   \n",
      "1             480  108.675018       1742     16.142204     97.889782   \n",
      "2             480   58.162016        669     11.527386     87.372197   \n",
      "3             480  122.586853        682      5.587330    100.079179   \n",
      "4             480  241.889534       1062      4.391190    100.000000   \n",
      "\n",
      "   key_signature       time_signature       tempo composer  \n",
      "0           22.0  6/4 at 0.00 seconds  180.000180   Chopin  \n",
      "1            NaN  6/8 at 0.00 seconds  144.053127   Chopin  \n",
      "2            NaN  2/4 at 0.00 seconds  100.031843   Chopin  \n",
      "3            NaN  3/4 at 0.00 seconds  120.007440   Chopin  \n",
      "4            NaN  2/4 at 0.00 seconds   63.003966   Chopin  \n"
     ]
    },
    {
     "name": "stderr",
     "output_type": "stream",
     "text": [
      "c:\\Users\\gabri\\anaconda3\\envs\\tf\\lib\\site-packages\\pretty_midi\\pretty_midi.py:100: RuntimeWarning: Tempo, Key or Time signature change events found on non-zero tracks.  This is not a valid type 0 or type 1 MIDI file.  Tempo, Key or Time Signature may be wrong.\n",
      "  warnings.warn(\n"
     ]
    },
    {
     "name": "stdout",
     "output_type": "stream",
     "text": [
      "Mozart DataFrame:\n",
      "                           file_name  num_tracks  ticks_per_beat      length  \\\n",
      "0        A piece for Piano,K.176.mid           4             240  116.503280   \n",
      "1               Adagio in B flat.mid           6             480  716.505484   \n",
      "2  Another piece for Piano,K.176.mid           4             240  128.892212   \n",
      "3                 Contradance n1.mid           3             120   34.904511   \n",
      "4                 Contradance n2.mid           3             120   59.256950   \n",
      "\n",
      "   num_notes  note_density  avg_velocity  key_signature       time_signature  \\\n",
      "0        881      7.577629     64.000000            NaN  3/4 at 0.00 seconds   \n",
      "1       3332      4.650348     81.130552            2.0  4/4 at 0.00 seconds   \n",
      "2       1139      8.836841     64.000000            NaN  3/4 at 0.00 seconds   \n",
      "3        302      8.652177    127.000000            7.0  2/4 at 0.00 seconds   \n",
      "4        378      6.378999    127.000000            9.0  2/4 at 0.00 seconds   \n",
      "\n",
      "        tempo composer  \n",
      "0  125.000000   Mozart  \n",
      "1   35.999993   Mozart  \n",
      "2  137.999876   Mozart  \n",
      "3  110.000110   Mozart  \n",
      "4  130.000130   Mozart  \n",
      "Merged DataFrame:\n",
      "                       file_name  num_tracks  ticks_per_beat      length  \\\n",
      "0                   AveMaria.mid           4             192  682.664062   \n",
      "1  Bwv0525 Sonate en trio n1.mid           4             480  852.282011   \n",
      "2  Bwv0526 Sonate en trio n2.mid           4             384  760.609070   \n",
      "3  Bwv0527 Sonate en trio n3.mid           4             480  921.410553   \n",
      "4  Bwv0528 Sonate en trio n4.mid           4             768  628.592614   \n",
      "\n",
      "   num_notes  note_density  avg_velocity  key_signature       time_signature  \\\n",
      "0        793      9.670732     33.857503            NaN  4/4 at 0.00 seconds   \n",
      "1       6077      7.132842     96.069442            NaN  4/4 at 0.00 seconds   \n",
      "2       5379      7.074737     94.044990            NaN  4/4 at 0.00 seconds   \n",
      "3       6056      6.579524     96.139696            NaN  2/4 at 0.00 seconds   \n",
      "4       4221      6.718341     96.103293            NaN  4/4 at 0.00 seconds   \n",
      "\n",
      "   tempo composer  \n",
      "0  120.0     Bach  \n",
      "1   75.0     Bach  \n",
      "2   80.0     Bach  \n",
      "3   60.0     Bach  \n",
      "4   40.0     Bach  \n"
     ]
    }
   ],
   "source": [
    "def extract_basic_features(file_path):\n",
    "    mid = mido.MidiFile(file_path)\n",
    "    features = {\n",
    "        'file_name': os.path.basename(file_path),\n",
    "        'num_tracks': len(mid.tracks),\n",
    "        'ticks_per_beat': mid.ticks_per_beat,\n",
    "        'length': mid.length,\n",
    "    }\n",
    "    return features\n",
    "\n",
    "def extract_pretty_midi_features(file_path):\n",
    "    midi_data = pm.PrettyMIDI(file_path)\n",
    "    features = {\n",
    "        'num_notes': sum(len(instrument.notes) for instrument in midi_data.instruments),\n",
    "        'note_density': sum(len(instrument.notes) for instrument in midi_data.instruments) / midi_data.get_end_time(),\n",
    "        'avg_velocity': (sum(note.velocity for instrument in midi_data.instruments for note in instrument.notes) /\n",
    "                         sum(len(instrument.notes) for instrument in midi_data.instruments)),\n",
    "        'key_signature': None,\n",
    "        'time_signature': None,\n",
    "        'tempo': None\n",
    "    }\n",
    "    \n",
    "    if midi_data.key_signature_changes:\n",
    "        try:\n",
    "            features['key_signature'] = midi_data.key_signature_changes[0].key_number\n",
    "        except KeyError:\n",
    "            features['key_signature'] = 'Unknown'\n",
    "    \n",
    "    if midi_data.time_signature_changes:\n",
    "        features['time_signature'] = str(midi_data.time_signature_changes[0])\n",
    "    \n",
    "    if midi_data.get_tempo_changes()[1].size > 0:\n",
    "        features['tempo'] = midi_data.get_tempo_changes()[1][0]\n",
    "    \n",
    "    return features\n",
    "\n",
    "def get_composer_from_filename(file_path):\n",
    "    return os.path.basename(file_path).split('_')[0]\n",
    "\n",
    "def load_midi_files_to_dataframe(directory_path, composer):\n",
    "    midi_files = [os.path.join(directory_path, f) for f in os.listdir(directory_path) if f.endswith('.mid')]\n",
    "    data = []\n",
    "    for file in midi_files:\n",
    "        try:\n",
    "            basic_features = extract_basic_features(file)\n",
    "            pretty_midi_features = extract_pretty_midi_features(file)\n",
    "            features = {**basic_features, **pretty_midi_features, 'composer': composer}\n",
    "            data.append(features)\n",
    "        except Exception as e:\n",
    "            print(f\"Error processing file {file}: {e}\")\n",
    "    df = pd.DataFrame(data)\n",
    "    return df\n",
    "\n",
    "# Specify the parent directory containing composer folders\n",
    "parent_directory = 'C:\\\\Users\\\\gabri\\\\OneDrive\\\\Desktop\\\\MSAAI\\\\AAI-511\\\\aai-511_group1\\\\midiclassics'\n",
    "\n",
    "# List of composers (folder names)\n",
    "composers = ['Bach', 'Beethoven', 'Chopin', 'Mozart']\n",
    "\n",
    "# Dictionary to hold DataFrames for each composer\n",
    "composer_dataframes = {}\n",
    "\n",
    "# Process each composer's folder\n",
    "for composer in composers:\n",
    "    composer_folder = os.path.join(parent_directory, composer)\n",
    "    composer_df = load_midi_files_to_dataframe(composer_folder, composer)\n",
    "    composer_dataframes[composer] = composer_df\n",
    "    print(f\"{composer} DataFrame:\")\n",
    "    print(composer_df.head())\n",
    "\n",
    "# Merge all DataFrames into a single DataFrame\n",
    "all_composers_df = pd.concat(composer_dataframes.values(), ignore_index=True)\n",
    "\n",
    "# Display the merged DataFrame\n",
    "print(\"Merged DataFrame:\")\n",
    "print(all_composers_df.head())"
   ]
  },
  {
   "cell_type": "code",
   "execution_count": 23,
   "metadata": {},
   "outputs": [
    {
     "data": {
      "text/html": [
       "<div>\n",
       "<style scoped>\n",
       "    .dataframe tbody tr th:only-of-type {\n",
       "        vertical-align: middle;\n",
       "    }\n",
       "\n",
       "    .dataframe tbody tr th {\n",
       "        vertical-align: top;\n",
       "    }\n",
       "\n",
       "    .dataframe thead th {\n",
       "        text-align: right;\n",
       "    }\n",
       "</style>\n",
       "<table border=\"1\" class=\"dataframe\">\n",
       "  <thead>\n",
       "    <tr style=\"text-align: right;\">\n",
       "      <th></th>\n",
       "      <th>file_name</th>\n",
       "      <th>num_tracks</th>\n",
       "      <th>ticks_per_beat</th>\n",
       "      <th>length</th>\n",
       "      <th>num_notes</th>\n",
       "      <th>note_density</th>\n",
       "      <th>avg_velocity</th>\n",
       "      <th>key_signature</th>\n",
       "      <th>time_signature</th>\n",
       "      <th>tempo</th>\n",
       "      <th>composer</th>\n",
       "    </tr>\n",
       "  </thead>\n",
       "  <tbody>\n",
       "    <tr>\n",
       "      <th>0</th>\n",
       "      <td>AveMaria.mid</td>\n",
       "      <td>4</td>\n",
       "      <td>192</td>\n",
       "      <td>682.664062</td>\n",
       "      <td>793</td>\n",
       "      <td>9.670732</td>\n",
       "      <td>33.857503</td>\n",
       "      <td>NaN</td>\n",
       "      <td>4/4 at 0.00 seconds</td>\n",
       "      <td>120.0</td>\n",
       "      <td>Bach</td>\n",
       "    </tr>\n",
       "    <tr>\n",
       "      <th>1</th>\n",
       "      <td>Bwv0525 Sonate en trio n1.mid</td>\n",
       "      <td>4</td>\n",
       "      <td>480</td>\n",
       "      <td>852.282011</td>\n",
       "      <td>6077</td>\n",
       "      <td>7.132842</td>\n",
       "      <td>96.069442</td>\n",
       "      <td>NaN</td>\n",
       "      <td>4/4 at 0.00 seconds</td>\n",
       "      <td>75.0</td>\n",
       "      <td>Bach</td>\n",
       "    </tr>\n",
       "    <tr>\n",
       "      <th>2</th>\n",
       "      <td>Bwv0526 Sonate en trio n2.mid</td>\n",
       "      <td>4</td>\n",
       "      <td>384</td>\n",
       "      <td>760.609070</td>\n",
       "      <td>5379</td>\n",
       "      <td>7.074737</td>\n",
       "      <td>94.044990</td>\n",
       "      <td>NaN</td>\n",
       "      <td>4/4 at 0.00 seconds</td>\n",
       "      <td>80.0</td>\n",
       "      <td>Bach</td>\n",
       "    </tr>\n",
       "    <tr>\n",
       "      <th>3</th>\n",
       "      <td>Bwv0527 Sonate en trio n3.mid</td>\n",
       "      <td>4</td>\n",
       "      <td>480</td>\n",
       "      <td>921.410553</td>\n",
       "      <td>6056</td>\n",
       "      <td>6.579524</td>\n",
       "      <td>96.139696</td>\n",
       "      <td>NaN</td>\n",
       "      <td>2/4 at 0.00 seconds</td>\n",
       "      <td>60.0</td>\n",
       "      <td>Bach</td>\n",
       "    </tr>\n",
       "    <tr>\n",
       "      <th>4</th>\n",
       "      <td>Bwv0528 Sonate en trio n4.mid</td>\n",
       "      <td>4</td>\n",
       "      <td>768</td>\n",
       "      <td>628.592614</td>\n",
       "      <td>4221</td>\n",
       "      <td>6.718341</td>\n",
       "      <td>96.103293</td>\n",
       "      <td>NaN</td>\n",
       "      <td>4/4 at 0.00 seconds</td>\n",
       "      <td>40.0</td>\n",
       "      <td>Bach</td>\n",
       "    </tr>\n",
       "  </tbody>\n",
       "</table>\n",
       "</div>"
      ],
      "text/plain": [
       "                       file_name  num_tracks  ticks_per_beat      length  \\\n",
       "0                   AveMaria.mid           4             192  682.664062   \n",
       "1  Bwv0525 Sonate en trio n1.mid           4             480  852.282011   \n",
       "2  Bwv0526 Sonate en trio n2.mid           4             384  760.609070   \n",
       "3  Bwv0527 Sonate en trio n3.mid           4             480  921.410553   \n",
       "4  Bwv0528 Sonate en trio n4.mid           4             768  628.592614   \n",
       "\n",
       "   num_notes  note_density  avg_velocity  key_signature       time_signature  \\\n",
       "0        793      9.670732     33.857503            NaN  4/4 at 0.00 seconds   \n",
       "1       6077      7.132842     96.069442            NaN  4/4 at 0.00 seconds   \n",
       "2       5379      7.074737     94.044990            NaN  4/4 at 0.00 seconds   \n",
       "3       6056      6.579524     96.139696            NaN  2/4 at 0.00 seconds   \n",
       "4       4221      6.718341     96.103293            NaN  4/4 at 0.00 seconds   \n",
       "\n",
       "   tempo composer  \n",
       "0  120.0     Bach  \n",
       "1   75.0     Bach  \n",
       "2   80.0     Bach  \n",
       "3   60.0     Bach  \n",
       "4   40.0     Bach  "
      ]
     },
     "execution_count": 23,
     "metadata": {},
     "output_type": "execute_result"
    }
   ],
   "source": [
    "all_composers_df.head()"
   ]
  },
  {
   "cell_type": "code",
   "execution_count": 24,
   "metadata": {},
   "outputs": [
    {
     "name": "stdout",
     "output_type": "stream",
     "text": [
      "<class 'pandas.core.frame.DataFrame'>\n",
      "RangeIndex: 480 entries, 0 to 479\n",
      "Data columns (total 11 columns):\n",
      " #   Column          Non-Null Count  Dtype  \n",
      "---  ------          --------------  -----  \n",
      " 0   file_name       480 non-null    object \n",
      " 1   num_tracks      480 non-null    int64  \n",
      " 2   ticks_per_beat  480 non-null    int64  \n",
      " 3   length          480 non-null    float64\n",
      " 4   num_notes       480 non-null    int64  \n",
      " 5   note_density    480 non-null    float64\n",
      " 6   avg_velocity    480 non-null    float64\n",
      " 7   key_signature   364 non-null    float64\n",
      " 8   time_signature  479 non-null    object \n",
      " 9   tempo           480 non-null    float64\n",
      " 10  composer        480 non-null    object \n",
      "dtypes: float64(5), int64(3), object(3)\n",
      "memory usage: 41.4+ KB\n"
     ]
    }
   ],
   "source": [
    "all_composers_df.info()"
   ]
  },
  {
   "cell_type": "code",
   "execution_count": 25,
   "metadata": {},
   "outputs": [],
   "source": [
    "all_composers_df = all_composers_df.dropna()"
   ]
  },
  {
   "cell_type": "code",
   "execution_count": 26,
   "metadata": {},
   "outputs": [],
   "source": [
    "all_composers_df.drop(columns='file_name', inplace=True)"
   ]
  },
  {
   "cell_type": "code",
   "execution_count": 27,
   "metadata": {},
   "outputs": [],
   "source": [
    "all_composers_df.reset_index(drop=True, inplace=True)"
   ]
  },
  {
   "cell_type": "code",
   "execution_count": 28,
   "metadata": {},
   "outputs": [
    {
     "name": "stdout",
     "output_type": "stream",
     "text": [
      "<class 'pandas.core.frame.DataFrame'>\n",
      "RangeIndex: 364 entries, 0 to 363\n",
      "Data columns (total 10 columns):\n",
      " #   Column          Non-Null Count  Dtype  \n",
      "---  ------          --------------  -----  \n",
      " 0   num_tracks      364 non-null    int64  \n",
      " 1   ticks_per_beat  364 non-null    int64  \n",
      " 2   length          364 non-null    float64\n",
      " 3   num_notes       364 non-null    int64  \n",
      " 4   note_density    364 non-null    float64\n",
      " 5   avg_velocity    364 non-null    float64\n",
      " 6   key_signature   364 non-null    float64\n",
      " 7   time_signature  364 non-null    object \n",
      " 8   tempo           364 non-null    float64\n",
      " 9   composer        364 non-null    object \n",
      "dtypes: float64(5), int64(3), object(2)\n",
      "memory usage: 28.6+ KB\n"
     ]
    }
   ],
   "source": [
    "all_composers_df.info()"
   ]
  },
  {
   "cell_type": "code",
   "execution_count": 36,
   "metadata": {},
   "outputs": [
    {
     "data": {
      "text/html": [
       "<div>\n",
       "<style scoped>\n",
       "    .dataframe tbody tr th:only-of-type {\n",
       "        vertical-align: middle;\n",
       "    }\n",
       "\n",
       "    .dataframe tbody tr th {\n",
       "        vertical-align: top;\n",
       "    }\n",
       "\n",
       "    .dataframe thead th {\n",
       "        text-align: right;\n",
       "    }\n",
       "</style>\n",
       "<table border=\"1\" class=\"dataframe\">\n",
       "  <thead>\n",
       "    <tr style=\"text-align: right;\">\n",
       "      <th></th>\n",
       "      <th>num_tracks</th>\n",
       "      <th>ticks_per_beat</th>\n",
       "      <th>length</th>\n",
       "      <th>num_notes</th>\n",
       "      <th>note_density</th>\n",
       "      <th>avg_velocity</th>\n",
       "      <th>key_signature</th>\n",
       "      <th>time_signature</th>\n",
       "      <th>tempo</th>\n",
       "      <th>composer</th>\n",
       "    </tr>\n",
       "  </thead>\n",
       "  <tbody>\n",
       "    <tr>\n",
       "      <th>0</th>\n",
       "      <td>13</td>\n",
       "      <td>120</td>\n",
       "      <td>704.715792</td>\n",
       "      <td>7574</td>\n",
       "      <td>10.747595</td>\n",
       "      <td>70.126221</td>\n",
       "      <td>2.0</td>\n",
       "      <td>4/4 at 0.00 seconds</td>\n",
       "      <td>85.000043</td>\n",
       "      <td>Bach</td>\n",
       "    </tr>\n",
       "    <tr>\n",
       "      <th>1</th>\n",
       "      <td>6</td>\n",
       "      <td>240</td>\n",
       "      <td>370.254778</td>\n",
       "      <td>3049</td>\n",
       "      <td>8.234870</td>\n",
       "      <td>126.737947</td>\n",
       "      <td>0.0</td>\n",
       "      <td>4/4 at 0.00 seconds</td>\n",
       "      <td>100.000000</td>\n",
       "      <td>Bach</td>\n",
       "    </tr>\n",
       "    <tr>\n",
       "      <th>2</th>\n",
       "      <td>14</td>\n",
       "      <td>240</td>\n",
       "      <td>440.050492</td>\n",
       "      <td>4148</td>\n",
       "      <td>9.426191</td>\n",
       "      <td>108.330521</td>\n",
       "      <td>0.0</td>\n",
       "      <td>3/4 at 0.00 seconds</td>\n",
       "      <td>82.999950</td>\n",
       "      <td>Bach</td>\n",
       "    </tr>\n",
       "    <tr>\n",
       "      <th>3</th>\n",
       "      <td>15</td>\n",
       "      <td>240</td>\n",
       "      <td>642.463248</td>\n",
       "      <td>4365</td>\n",
       "      <td>6.794163</td>\n",
       "      <td>115.145934</td>\n",
       "      <td>0.0</td>\n",
       "      <td>4/4 at 0.00 seconds</td>\n",
       "      <td>62.999997</td>\n",
       "      <td>Bach</td>\n",
       "    </tr>\n",
       "    <tr>\n",
       "      <th>4</th>\n",
       "      <td>14</td>\n",
       "      <td>240</td>\n",
       "      <td>315.355429</td>\n",
       "      <td>2092</td>\n",
       "      <td>6.633785</td>\n",
       "      <td>93.714149</td>\n",
       "      <td>0.0</td>\n",
       "      <td>4/4 at 0.00 seconds</td>\n",
       "      <td>60.000000</td>\n",
       "      <td>Bach</td>\n",
       "    </tr>\n",
       "  </tbody>\n",
       "</table>\n",
       "</div>"
      ],
      "text/plain": [
       "   num_tracks  ticks_per_beat      length  num_notes  note_density  \\\n",
       "0          13             120  704.715792       7574     10.747595   \n",
       "1           6             240  370.254778       3049      8.234870   \n",
       "2          14             240  440.050492       4148      9.426191   \n",
       "3          15             240  642.463248       4365      6.794163   \n",
       "4          14             240  315.355429       2092      6.633785   \n",
       "\n",
       "   avg_velocity  key_signature       time_signature       tempo composer  \n",
       "0     70.126221            2.0  4/4 at 0.00 seconds   85.000043     Bach  \n",
       "1    126.737947            0.0  4/4 at 0.00 seconds  100.000000     Bach  \n",
       "2    108.330521            0.0  3/4 at 0.00 seconds   82.999950     Bach  \n",
       "3    115.145934            0.0  4/4 at 0.00 seconds   62.999997     Bach  \n",
       "4     93.714149            0.0  4/4 at 0.00 seconds   60.000000     Bach  "
      ]
     },
     "execution_count": 36,
     "metadata": {},
     "output_type": "execute_result"
    }
   ],
   "source": [
    "all_composers_df.head()"
   ]
  },
  {
   "cell_type": "code",
   "execution_count": 37,
   "metadata": {},
   "outputs": [
    {
     "data": {
      "text/plain": [
       "Beethoven    116\n",
       "Chopin       102\n",
       "Mozart        79\n",
       "Bach          67\n",
       "Name: composer, dtype: int64"
      ]
     },
     "execution_count": 37,
     "metadata": {},
     "output_type": "execute_result"
    }
   ],
   "source": [
    "all_composers_df['composer'].value_counts()"
   ]
  },
  {
   "cell_type": "markdown",
   "metadata": {},
   "source": [
    "Features and target assignment, encoding, Scaling, and reshaping data. "
   ]
  },
  {
   "cell_type": "code",
   "execution_count": 38,
   "metadata": {},
   "outputs": [],
   "source": [
    "features = all_composers_df.drop(columns='composer')\n",
    "target = all_composers_df['composer']"
   ]
  },
  {
   "cell_type": "code",
   "execution_count": 39,
   "metadata": {},
   "outputs": [],
   "source": [
    "numerical_features = features.select_dtypes(include=['int64', 'float64']).columns.tolist()\n",
    "categorical_features = features.select_dtypes(include=['object']).columns.tolist()"
   ]
  },
  {
   "cell_type": "code",
   "execution_count": 40,
   "metadata": {},
   "outputs": [],
   "source": [
    "label_encoder = LabelEncoder()\n",
    "encoded_target = label_encoder.fit_transform(target)"
   ]
  },
  {
   "cell_type": "code",
   "execution_count": 43,
   "metadata": {},
   "outputs": [],
   "source": [
    "column_transformer = ColumnTransformer(\n",
    "    transformers=[\n",
    "        ('numerical', StandardScaler(), numerical_features),\n",
    "        ('categorical', OneHotEncoder(), categorical_features)\n",
    "    ]\n",
    ")"
   ]
  },
  {
   "cell_type": "code",
   "execution_count": 44,
   "metadata": {},
   "outputs": [],
   "source": [
    "transformed_features = column_transformer.fit_transform(features)"
   ]
  },
  {
   "cell_type": "code",
   "execution_count": 45,
   "metadata": {},
   "outputs": [],
   "source": [
    "reshaped_features = transformed_features.reshape(transformed_features.shape[0], 1, transformed_features.shape[1])"
   ]
  },
  {
   "cell_type": "code",
   "execution_count": 46,
   "metadata": {},
   "outputs": [],
   "source": [
    "random_state = 88"
   ]
  },
  {
   "cell_type": "code",
   "execution_count": 116,
   "metadata": {},
   "outputs": [],
   "source": [
    "features_train, features_test, target_train, target_test = train_test_split(reshaped_features, encoded_target, test_size=0.3, random_state=random_state )"
   ]
  },
  {
   "cell_type": "markdown",
   "metadata": {},
   "source": [
    "Model Architecture"
   ]
  },
  {
   "cell_type": "code",
   "execution_count": 131,
   "metadata": {},
   "outputs": [],
   "source": [
    "model = Sequential()"
   ]
  },
  {
   "cell_type": "code",
   "execution_count": 132,
   "metadata": {},
   "outputs": [],
   "source": [
    "model.add(LSTM(50, activation='relu', input_shape=(1, transformed_features.shape[1])))\n",
    "model.add(Dropout(0.2))\n",
    "\n",
    "# Add dense layers\n",
    "model.add(Dense(100, activation='relu'))\n",
    "model.add(Dropout(0.2))\n",
    "model.add(Dense(len(np.unique(encoded_target)), activation='softmax'))"
   ]
  },
  {
   "cell_type": "code",
   "execution_count": 133,
   "metadata": {},
   "outputs": [],
   "source": [
    "model.compile(optimizer='adam', loss='sparse_categorical_crossentropy', metrics=['accuracy'])"
   ]
  },
  {
   "cell_type": "code",
   "execution_count": 134,
   "metadata": {},
   "outputs": [
    {
     "name": "stdout",
     "output_type": "stream",
     "text": [
      "Model: \"sequential_13\"\n",
      "_________________________________________________________________\n",
      " Layer (type)                Output Shape              Param #   \n",
      "=================================================================\n",
      " lstm_6 (LSTM)               (None, 50)                16000     \n",
      "                                                                 \n",
      " dropout_31 (Dropout)        (None, 50)                0         \n",
      "                                                                 \n",
      " dense_24 (Dense)            (None, 100)               5100      \n",
      "                                                                 \n",
      " dropout_32 (Dropout)        (None, 100)               0         \n",
      "                                                                 \n",
      " dense_25 (Dense)            (None, 4)                 404       \n",
      "                                                                 \n",
      "=================================================================\n",
      "Total params: 21,504\n",
      "Trainable params: 21,504\n",
      "Non-trainable params: 0\n",
      "_________________________________________________________________\n"
     ]
    }
   ],
   "source": [
    "model.summary()"
   ]
  },
  {
   "cell_type": "code",
   "execution_count": 135,
   "metadata": {},
   "outputs": [
    {
     "name": "stdout",
     "output_type": "stream",
     "text": [
      "Epoch 1/70\n",
      "8/8 [==============================] - 1s 30ms/step - loss: 1.3786 - accuracy: 0.2874 - val_loss: 1.3699 - val_accuracy: 0.3545\n",
      "Epoch 2/70\n",
      "8/8 [==============================] - 0s 4ms/step - loss: 1.3618 - accuracy: 0.4055 - val_loss: 1.3553 - val_accuracy: 0.4727\n",
      "Epoch 3/70\n",
      "8/8 [==============================] - 0s 4ms/step - loss: 1.3460 - accuracy: 0.4370 - val_loss: 1.3406 - val_accuracy: 0.4818\n",
      "Epoch 4/70\n",
      "8/8 [==============================] - 0s 4ms/step - loss: 1.3240 - accuracy: 0.4567 - val_loss: 1.3234 - val_accuracy: 0.5000\n",
      "Epoch 5/70\n",
      "8/8 [==============================] - 0s 4ms/step - loss: 1.3074 - accuracy: 0.4567 - val_loss: 1.2999 - val_accuracy: 0.5000\n",
      "Epoch 6/70\n",
      "8/8 [==============================] - 0s 4ms/step - loss: 1.2692 - accuracy: 0.4764 - val_loss: 1.2726 - val_accuracy: 0.5000\n",
      "Epoch 7/70\n",
      "8/8 [==============================] - 0s 4ms/step - loss: 1.2417 - accuracy: 0.4882 - val_loss: 1.2396 - val_accuracy: 0.5000\n",
      "Epoch 8/70\n",
      "8/8 [==============================] - 0s 4ms/step - loss: 1.2083 - accuracy: 0.4882 - val_loss: 1.2028 - val_accuracy: 0.5455\n",
      "Epoch 9/70\n",
      "8/8 [==============================] - 0s 4ms/step - loss: 1.1641 - accuracy: 0.5079 - val_loss: 1.1626 - val_accuracy: 0.5818\n",
      "Epoch 10/70\n",
      "8/8 [==============================] - 0s 4ms/step - loss: 1.1193 - accuracy: 0.5433 - val_loss: 1.1183 - val_accuracy: 0.5909\n",
      "Epoch 11/70\n",
      "8/8 [==============================] - 0s 4ms/step - loss: 1.0873 - accuracy: 0.5945 - val_loss: 1.0777 - val_accuracy: 0.6091\n",
      "Epoch 12/70\n",
      "8/8 [==============================] - 0s 4ms/step - loss: 1.0361 - accuracy: 0.5984 - val_loss: 1.0398 - val_accuracy: 0.6273\n",
      "Epoch 13/70\n",
      "8/8 [==============================] - 0s 4ms/step - loss: 0.9935 - accuracy: 0.5984 - val_loss: 1.0058 - val_accuracy: 0.6273\n",
      "Epoch 14/70\n",
      "8/8 [==============================] - 0s 4ms/step - loss: 0.9501 - accuracy: 0.6457 - val_loss: 0.9788 - val_accuracy: 0.6545\n",
      "Epoch 15/70\n",
      "8/8 [==============================] - 0s 4ms/step - loss: 0.9351 - accuracy: 0.6024 - val_loss: 0.9563 - val_accuracy: 0.6545\n",
      "Epoch 16/70\n",
      "8/8 [==============================] - 0s 4ms/step - loss: 0.8951 - accuracy: 0.6693 - val_loss: 0.9387 - val_accuracy: 0.6636\n",
      "Epoch 17/70\n",
      "8/8 [==============================] - 0s 4ms/step - loss: 0.8627 - accuracy: 0.6575 - val_loss: 0.9259 - val_accuracy: 0.6636\n",
      "Epoch 18/70\n",
      "8/8 [==============================] - 0s 4ms/step - loss: 0.8551 - accuracy: 0.6378 - val_loss: 0.9175 - val_accuracy: 0.6636\n",
      "Epoch 19/70\n",
      "8/8 [==============================] - 0s 4ms/step - loss: 0.8314 - accuracy: 0.6496 - val_loss: 0.9103 - val_accuracy: 0.6727\n",
      "Epoch 20/70\n",
      "8/8 [==============================] - 0s 4ms/step - loss: 0.8097 - accuracy: 0.6850 - val_loss: 0.9009 - val_accuracy: 0.6818\n",
      "Epoch 21/70\n",
      "8/8 [==============================] - 0s 4ms/step - loss: 0.8081 - accuracy: 0.6614 - val_loss: 0.8927 - val_accuracy: 0.6818\n",
      "Epoch 22/70\n",
      "8/8 [==============================] - 0s 4ms/step - loss: 0.7924 - accuracy: 0.6890 - val_loss: 0.8869 - val_accuracy: 0.6727\n",
      "Epoch 23/70\n",
      "8/8 [==============================] - 0s 4ms/step - loss: 0.7660 - accuracy: 0.6969 - val_loss: 0.8850 - val_accuracy: 0.6727\n",
      "Epoch 24/70\n",
      "8/8 [==============================] - 0s 4ms/step - loss: 0.7578 - accuracy: 0.6890 - val_loss: 0.8782 - val_accuracy: 0.6818\n",
      "Epoch 25/70\n",
      "8/8 [==============================] - 0s 4ms/step - loss: 0.7391 - accuracy: 0.7244 - val_loss: 0.8753 - val_accuracy: 0.6909\n",
      "Epoch 26/70\n",
      "8/8 [==============================] - 0s 4ms/step - loss: 0.7377 - accuracy: 0.7087 - val_loss: 0.8767 - val_accuracy: 0.6818\n",
      "Epoch 27/70\n",
      "8/8 [==============================] - 0s 4ms/step - loss: 0.7113 - accuracy: 0.7244 - val_loss: 0.8742 - val_accuracy: 0.6818\n",
      "Epoch 28/70\n",
      "8/8 [==============================] - 0s 4ms/step - loss: 0.6929 - accuracy: 0.7441 - val_loss: 0.8705 - val_accuracy: 0.6818\n",
      "Epoch 29/70\n",
      "8/8 [==============================] - 0s 4ms/step - loss: 0.7444 - accuracy: 0.7126 - val_loss: 0.8691 - val_accuracy: 0.6727\n",
      "Epoch 30/70\n",
      "8/8 [==============================] - 0s 5ms/step - loss: 0.7253 - accuracy: 0.7047 - val_loss: 0.8694 - val_accuracy: 0.6727\n",
      "Epoch 31/70\n",
      "8/8 [==============================] - 0s 4ms/step - loss: 0.7040 - accuracy: 0.7520 - val_loss: 0.8651 - val_accuracy: 0.6636\n",
      "Epoch 32/70\n",
      "8/8 [==============================] - 0s 4ms/step - loss: 0.6964 - accuracy: 0.7244 - val_loss: 0.8680 - val_accuracy: 0.6545\n",
      "Epoch 33/70\n",
      "8/8 [==============================] - 0s 4ms/step - loss: 0.6638 - accuracy: 0.7559 - val_loss: 0.8632 - val_accuracy: 0.6545\n",
      "Epoch 34/70\n",
      "8/8 [==============================] - 0s 4ms/step - loss: 0.6534 - accuracy: 0.7205 - val_loss: 0.8659 - val_accuracy: 0.6727\n",
      "Epoch 35/70\n",
      "8/8 [==============================] - 0s 4ms/step - loss: 0.6618 - accuracy: 0.7717 - val_loss: 0.8642 - val_accuracy: 0.6727\n",
      "Epoch 36/70\n",
      "8/8 [==============================] - 0s 4ms/step - loss: 0.6336 - accuracy: 0.7559 - val_loss: 0.8614 - val_accuracy: 0.6727\n",
      "Epoch 37/70\n",
      "8/8 [==============================] - 0s 4ms/step - loss: 0.6206 - accuracy: 0.7717 - val_loss: 0.8670 - val_accuracy: 0.6545\n",
      "Epoch 38/70\n",
      "8/8 [==============================] - 0s 4ms/step - loss: 0.6327 - accuracy: 0.7441 - val_loss: 0.8664 - val_accuracy: 0.6818\n",
      "Epoch 39/70\n",
      "8/8 [==============================] - 0s 4ms/step - loss: 0.6187 - accuracy: 0.7480 - val_loss: 0.8663 - val_accuracy: 0.6909\n",
      "Epoch 40/70\n",
      "8/8 [==============================] - 0s 4ms/step - loss: 0.6056 - accuracy: 0.7756 - val_loss: 0.8590 - val_accuracy: 0.6727\n",
      "Epoch 41/70\n",
      "8/8 [==============================] - 0s 4ms/step - loss: 0.6162 - accuracy: 0.7756 - val_loss: 0.8504 - val_accuracy: 0.6545\n",
      "Epoch 42/70\n",
      "8/8 [==============================] - 0s 5ms/step - loss: 0.6080 - accuracy: 0.7520 - val_loss: 0.8508 - val_accuracy: 0.6455\n",
      "Epoch 43/70\n",
      "8/8 [==============================] - 0s 4ms/step - loss: 0.5879 - accuracy: 0.7835 - val_loss: 0.8553 - val_accuracy: 0.6545\n",
      "Epoch 44/70\n",
      "8/8 [==============================] - 0s 4ms/step - loss: 0.5977 - accuracy: 0.7677 - val_loss: 0.8603 - val_accuracy: 0.6545\n",
      "Epoch 45/70\n",
      "8/8 [==============================] - 0s 4ms/step - loss: 0.6067 - accuracy: 0.7638 - val_loss: 0.8657 - val_accuracy: 0.6545\n",
      "Epoch 46/70\n",
      "8/8 [==============================] - 0s 4ms/step - loss: 0.5796 - accuracy: 0.7874 - val_loss: 0.8614 - val_accuracy: 0.6545\n",
      "Epoch 47/70\n",
      "8/8 [==============================] - 0s 4ms/step - loss: 0.5642 - accuracy: 0.7795 - val_loss: 0.8546 - val_accuracy: 0.6455\n",
      "Epoch 48/70\n",
      "8/8 [==============================] - 0s 4ms/step - loss: 0.5758 - accuracy: 0.7835 - val_loss: 0.8566 - val_accuracy: 0.6545\n",
      "Epoch 49/70\n",
      "8/8 [==============================] - 0s 4ms/step - loss: 0.5306 - accuracy: 0.7913 - val_loss: 0.8562 - val_accuracy: 0.6636\n",
      "Epoch 50/70\n",
      "8/8 [==============================] - 0s 4ms/step - loss: 0.5544 - accuracy: 0.7992 - val_loss: 0.8570 - val_accuracy: 0.6455\n",
      "Epoch 51/70\n",
      "8/8 [==============================] - 0s 4ms/step - loss: 0.5328 - accuracy: 0.8110 - val_loss: 0.8550 - val_accuracy: 0.6364\n",
      "Epoch 52/70\n",
      "8/8 [==============================] - 0s 4ms/step - loss: 0.5157 - accuracy: 0.8228 - val_loss: 0.8482 - val_accuracy: 0.6364\n",
      "Epoch 53/70\n",
      "8/8 [==============================] - 0s 4ms/step - loss: 0.5285 - accuracy: 0.7992 - val_loss: 0.8513 - val_accuracy: 0.6545\n",
      "Epoch 54/70\n",
      "8/8 [==============================] - 0s 4ms/step - loss: 0.5288 - accuracy: 0.7913 - val_loss: 0.8548 - val_accuracy: 0.6364\n",
      "Epoch 55/70\n",
      "8/8 [==============================] - 0s 4ms/step - loss: 0.5101 - accuracy: 0.8150 - val_loss: 0.8586 - val_accuracy: 0.6364\n",
      "Epoch 56/70\n",
      "8/8 [==============================] - 0s 4ms/step - loss: 0.5393 - accuracy: 0.7953 - val_loss: 0.8583 - val_accuracy: 0.6182\n",
      "Epoch 57/70\n",
      "8/8 [==============================] - 0s 4ms/step - loss: 0.4681 - accuracy: 0.8071 - val_loss: 0.8630 - val_accuracy: 0.6545\n",
      "Epoch 58/70\n",
      "8/8 [==============================] - 0s 5ms/step - loss: 0.4991 - accuracy: 0.8228 - val_loss: 0.8596 - val_accuracy: 0.6455\n",
      "Epoch 59/70\n",
      "8/8 [==============================] - 0s 4ms/step - loss: 0.4974 - accuracy: 0.8268 - val_loss: 0.8623 - val_accuracy: 0.6455\n",
      "Epoch 60/70\n",
      "8/8 [==============================] - 0s 4ms/step - loss: 0.4709 - accuracy: 0.8110 - val_loss: 0.8634 - val_accuracy: 0.6455\n",
      "Epoch 61/70\n",
      "8/8 [==============================] - 0s 4ms/step - loss: 0.4977 - accuracy: 0.7992 - val_loss: 0.8683 - val_accuracy: 0.6364\n",
      "Epoch 62/70\n",
      "8/8 [==============================] - 0s 4ms/step - loss: 0.4658 - accuracy: 0.8346 - val_loss: 0.8660 - val_accuracy: 0.6182\n",
      "Epoch 63/70\n",
      "8/8 [==============================] - 0s 4ms/step - loss: 0.5054 - accuracy: 0.7874 - val_loss: 0.8743 - val_accuracy: 0.6364\n",
      "Epoch 64/70\n",
      "8/8 [==============================] - 0s 4ms/step - loss: 0.4794 - accuracy: 0.7992 - val_loss: 0.8762 - val_accuracy: 0.6182\n",
      "Epoch 65/70\n",
      "8/8 [==============================] - 0s 4ms/step - loss: 0.4921 - accuracy: 0.8110 - val_loss: 0.8806 - val_accuracy: 0.6182\n",
      "Epoch 66/70\n",
      "8/8 [==============================] - 0s 4ms/step - loss: 0.4816 - accuracy: 0.7953 - val_loss: 0.8746 - val_accuracy: 0.6455\n",
      "Epoch 67/70\n",
      "8/8 [==============================] - 0s 4ms/step - loss: 0.4640 - accuracy: 0.8268 - val_loss: 0.8671 - val_accuracy: 0.6364\n",
      "Epoch 68/70\n",
      "8/8 [==============================] - 0s 4ms/step - loss: 0.4439 - accuracy: 0.8189 - val_loss: 0.8590 - val_accuracy: 0.6455\n",
      "Epoch 69/70\n",
      "8/8 [==============================] - 0s 3ms/step - loss: 0.4818 - accuracy: 0.8228 - val_loss: 0.8683 - val_accuracy: 0.6455\n",
      "Epoch 70/70\n",
      "8/8 [==============================] - 0s 4ms/step - loss: 0.4413 - accuracy: 0.8346 - val_loss: 0.8672 - val_accuracy: 0.6455\n"
     ]
    }
   ],
   "source": [
    "history = model.fit(features_train, target_train, epochs=70, batch_size=32, validation_data=(features_test, target_test))"
   ]
  },
  {
   "cell_type": "code",
   "execution_count": 136,
   "metadata": {},
   "outputs": [
    {
     "name": "stdout",
     "output_type": "stream",
     "text": [
      "4/4 [==============================] - 0s 1ms/step - loss: 0.8672 - accuracy: 0.6455\n",
      "Test Accuracy: 0.6455\n"
     ]
    }
   ],
   "source": [
    "loss, accuracy = model.evaluate(features_test, target_test)\n",
    "print(f'Test Accuracy: {accuracy:.4f}')"
   ]
  },
  {
   "cell_type": "code",
   "execution_count": 137,
   "metadata": {},
   "outputs": [
    {
     "data": {
      "image/png": "[encoded data removed]",
      "text/plain": [
       "<Figure size 640x480 with 1 Axes>"
      ]
     },
     "metadata": {},
     "output_type": "display_data"
    }
   ],
   "source": [
    "plt.plot(history.history['loss'], label='Training Loss')\n",
    "plt.plot(history.history['val_loss'], label='Validation Loss')\n",
    "plt.title('Model Loss')\n",
    "plt.xlabel('Epoch')\n",
    "plt.ylabel('Loss')\n",
    "plt.legend()\n",
    "plt.show()"
   ]
  },
  {
   "cell_type": "markdown",
   "metadata": {},
   "source": [
    "Working on dashboard: "
   ]
  },
  {
   "cell_type": "code",
   "execution_count": 141,
   "metadata": {},
   "outputs": [
    {
     "name": "stdout",
     "output_type": "stream",
     "text": [
      "INFO:tensorflow:Assets written to: ram://cf1854f2-ebe0-477e-ad42-152b23048b79/assets\n"
     ]
    },
    {
     "data": {
      "text/plain": [
       "['column_transfomer.pkl']"
      ]
     },
     "execution_count": 141,
     "metadata": {},
     "output_type": "execute_result"
    }
   ],
   "source": [
    "joblib.dump(model, 'draft_lstm.pkl')\n",
    "\n",
    "joblib.dump(column_transformer, 'column_transfomer.pkl')"
   ]
  },
  {
   "cell_type": "code",
   "execution_count": null,
   "metadata": {},
   "outputs": [],
   "source": [
    "modelo = load_model('draft_lstm.h5')"
   ]
  }
 ],
 "metadata": {
  "kernelspec": {
   "display_name": "tf",
   "language": "python",
   "name": "python3"
  },
  "language_info": {
   "codemirror_mode": {
    "name": "ipython",
    "version": 3
   },
   "file_extension": ".py",
   "mimetype": "text/x-python",
   "name": "python",
   "nbconvert_exporter": "python",
   "pygments_lexer": "ipython3",
   "version": "3.9.18"
  }
 },
 "nbformat": 4,
 "nbformat_minor": 2
}
