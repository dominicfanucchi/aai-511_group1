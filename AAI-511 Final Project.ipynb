{
 "cells": [
  {
   "cell_type": "markdown",
   "metadata": {},
   "source": [
    "## Imports and File Reads"
   ]
  },
  {
   "cell_type": "code",
   "execution_count": 1,
   "metadata": {},
   "outputs": [
    {
     "name": "stderr",
     "output_type": "stream",
     "text": [
      "2024-07-12 00:23:16.575733: I tensorflow/core/platform/cpu_feature_guard.cc:182] This TensorFlow binary is optimized to use available CPU instructions in performance-critical operations.\n",
      "To enable the following instructions: AVX2 FMA, in other operations, rebuild TensorFlow with the appropriate compiler flags.\n"
     ]
    }
   ],
   "source": [
    "import pandas as pd\n",
    "import numpy as np\n",
    "import seaborn as sns\n",
    "import matplotlib.pyplot as plt\n",
    "%matplotlib inline\n",
    "plt.style.use('fivethirtyeight')\n",
    "sns.set_theme(style='whitegrid', palette='deep')\n",
    "\n",
    "import pretty_midi\n",
    "\n",
    "import tensorflow as tf\n",
    "import torch as pt\n",
    "\n",
    "import warnings\n",
    "warnings.filterwarnings('ignore', category=FutureWarning)"
   ]
  },
  {
   "cell_type": "code",
   "execution_count": 2,
   "metadata": {},
   "outputs": [],
   "source": [
    "# TODO: add filepath prefix for each member, or communicate to have the same file structure\n",
    "midi_filepath = '../aai-511_group1/midiclassics'\n",
    "\n",
    "# TODO: finish file paths for each file used\n",
    "# df__ = pd.read_csv(f'{filepath_prefix}filename.format')"
   ]
  },
  {
   "cell_type": "markdown",
   "metadata": {},
   "source": [
    "# Production Demo\n",
    "These 8 files will be used for Demo purposes only. They were removed from the MIDI files dataset prior to models being trained, so the models will have never seen these files. They will be used in a final demonstration to determine if our efforts in being able to create a deep learning model to classify composers was successful.\n",
    "\n",
    "### Bach Files\n",
    "- *07 Rondo.mid*\n",
    "- *022602bv.mid*\n",
    "\n",
    "### Beethoven Files\n",
    "- *Sonatina In C.mid*\n",
    "- *137.MID*\n",
    "\n",
    "### Chopin Files\n",
    "- *Prelude n18 op28 \"Suicide\".mid*\n",
    "- *Ballad op53.mid*\n",
    "\n",
    "### Mozart Files\n",
    "- *Early Pieces n9 Allegretto.mid*\n",
    "- *Rondo.mid*"
   ]
  }
 ],
 "metadata": {
  "kernelspec": {
   "display_name": "Python 3",
   "language": "python",
   "name": "python3"
  },
  "language_info": {
   "codemirror_mode": {
    "name": "ipython",
    "version": 3
   },
   "file_extension": ".py",
   "mimetype": "text/x-python",
   "name": "python",
   "nbconvert_exporter": "python",
   "pygments_lexer": "ipython3",
   "version": "3.11.6"
  }
 },
 "nbformat": 4,
 "nbformat_minor": 2
}
